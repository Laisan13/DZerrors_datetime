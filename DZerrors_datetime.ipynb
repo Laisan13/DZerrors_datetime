{
 "cells": [
  {
   "cell_type": "markdown",
   "metadata": {},
   "source": [
    "Задание 1"
   ]
  },
  {
   "cell_type": "code",
   "execution_count": 1,
   "metadata": {},
   "outputs": [
    {
     "name": "stdout",
     "output_type": "stream",
     "text": [
      "The Moscow Times - 2002-10-02 00:00:00 2\n",
      "The Guardian - 2013-10-11 00:00:00 4\n",
      "Daily News - 1977-08-18 00:00:00 3\n"
     ]
    }
   ],
   "source": [
    "from datetime import datetime\n",
    "\n",
    "moscow_times = 'Wednesday, October 2, 2002'\n",
    "\n",
    "moscow_times_datetime = datetime.strptime(moscow_times,'%A, %B %d, %Y')\n",
    "\n",
    "guardian = 'Friday, 11.10.13'\n",
    "\n",
    "guardian_datetime = datetime.strptime(guardian,'%A, %d.%m.%y')\n",
    "\n",
    "daily_news = 'Thursday, 18 August 1977'\n",
    "\n",
    "daily_news_datetime = datetime.strptime(daily_news,'%A, %d %B %Y')\n",
    "\n",
    "print (f'The Moscow Times - {moscow_times_datetime} {moscow_times_datetime.weekday()}')\n",
    "print (f'The Guardian - {guardian_datetime} {guardian_datetime.weekday()}')\n",
    "print (f'Daily News - {daily_news_datetime} {daily_news_datetime.weekday()}')"
   ]
  },
  {
   "cell_type": "markdown",
   "metadata": {},
   "source": [
    "Задание 2"
   ]
  },
  {
   "cell_type": "code",
   "execution_count": 2,
   "metadata": {},
   "outputs": [
    {
     "name": "stdout",
     "output_type": "stream",
     "text": [
      "2018-19-02 - False\n",
      "2018-04-02 - True\n",
      "2018-02-29 - False\n",
      "2018-02-34 - False\n"
     ]
    }
   ],
   "source": [
    "from datetime import datetime\n",
    "\n",
    "def date_correct(date_list):\n",
    "    for date in date_list:\n",
    "        try:\n",
    "            datetime.strptime(date, '%Y-%m-%d')\n",
    "            print(f'{date} - {True}')\n",
    "        except:\n",
    "            print(f'{date} - {False}')\n",
    "    return        \n",
    "\n",
    "\n",
    "stream = ['2018-19-02','2018-04-02','2018-02-29','2018-02-34']\n",
    "\n",
    "date_correct(stream)   "
   ]
  },
  {
   "cell_type": "markdown",
   "metadata": {},
   "source": [
    "Задание 3"
   ]
  },
  {
   "cell_type": "code",
   "execution_count": 3,
   "metadata": {},
   "outputs": [
    {
     "data": {
      "text/plain": [
       "['2019-04-01',\n",
       " '2019-04-02',\n",
       " '2019-04-03',\n",
       " '2019-04-04',\n",
       " '2019-04-05',\n",
       " '2019-04-06',\n",
       " '2019-04-07']"
      ]
     },
     "execution_count": 3,
     "metadata": {},
     "output_type": "execute_result"
    }
   ],
   "source": [
    "from datetime import timedelta\n",
    "from datetime import datetime\n",
    "\n",
    "start_date = '2020-01-01'\n",
    "end_date = '2020-01-07'\n",
    "def date_range (start_date, end_date):\n",
    "    data_list = []\n",
    "    try:\n",
    "        start_date_dt = datetime.strptime(start_date, '%Y-%m-%d')\n",
    "        end_date_dt = datetime.strptime(end_date, '%Y-%m-%d')\n",
    "        current_dt = start_date_dt\n",
    "        while current_dt <= end_date_dt:\n",
    "            data_list += [current_dt.strftime('%Y-%m-%d')]\n",
    "            current_dt += timedelta(days=1)\n",
    "            \n",
    "    except:\n",
    "         data_list += []\n",
    "    return data_list\n",
    "\n",
    "start_date = '2019-04-01'\n",
    "end_date = '2019-04-07'\n",
    "\n",
    "date_range (start_date, end_date)"
   ]
  },
  {
   "cell_type": "markdown",
   "metadata": {},
   "source": [
    "Задание 4"
   ]
  },
  {
   "cell_type": "code",
   "execution_count": null,
   "metadata": {},
   "outputs": [],
   "source": [
    "\"\"\"\"Ответ на 1 вопрос: Ошибка происходит из-за того что в какой-то момент индекс (ID пользователя) вышел за\n",
    "реальные границы списка\"\"\" "
   ]
  },
  {
   "cell_type": "code",
   "execution_count": 4,
   "metadata": {},
   "outputs": [
    {
     "data": {
      "text/plain": [
       "'A101'"
      ]
     },
     "execution_count": 4,
     "metadata": {},
     "output_type": "execute_result"
    }
   ],
   "source": [
    "DEFAULT_USER_COUNT = 3\n",
    "\n",
    "def delete_and_return_last_user(default_list=['A100', 'A101', 'A102']):\n",
    "    element_to_delete = default_list[-1]\n",
    "    default_list.remove(element_to_delete)\n",
    "#     print (default_list[-1])\n",
    "    return default_list[DEFAULT_USER_COUNT-2]\n",
    "#     return default_list\n",
    "\n",
    "default_list=['A100', 'A101', 'A102']\n",
    "delete_and_return_last_user(default_list)"
   ]
  },
  {
   "cell_type": "code",
   "execution_count": 5,
   "metadata": {},
   "outputs": [
    {
     "ename": "IndexError",
     "evalue": "list index out of range",
     "output_type": "error",
     "traceback": [
      "\u001b[1;31m---------------------------------------------------------------------------\u001b[0m",
      "\u001b[1;31mIndexError\u001b[0m                                Traceback (most recent call last)",
      "\u001b[1;32m<ipython-input-5-60a3ed45b472>\u001b[0m in \u001b[0;36m<module>\u001b[1;34m\u001b[0m\n\u001b[1;32m----> 1\u001b[1;33m \u001b[0mdelete_and_return_last_user\u001b[0m\u001b[1;33m(\u001b[0m\u001b[0mdefault_list\u001b[0m\u001b[1;33m)\u001b[0m\u001b[1;33m\u001b[0m\u001b[1;33m\u001b[0m\u001b[0m\n\u001b[0m\u001b[0;32m      2\u001b[0m \"\"\"Ответ на 2 вопрос: Ошибка была в строке  - return default_list[DEFAULT_USER_COUNT-2]-\n\u001b[0;32m      3\u001b[0m \u001b[0mПри\u001b[0m \u001b[0mвтором\u001b[0m \u001b[0mвызове\u001b[0m \u001b[0mкод\u001b[0m \u001b[0mне\u001b[0m \u001b[0mнаходит\u001b[0m \u001b[0mиндекс\u001b[0m \u001b[1;33m[\u001b[0m\u001b[1;36m1\u001b[0m\u001b[1;33m]\u001b[0m \u001b[0mв\u001b[0m \u001b[0mсписке\u001b[0m \u001b[0mdefault_list\u001b[0m\u001b[1;33m,\u001b[0m \u001b[0mтак\u001b[0m \u001b[0mкак\u001b[0m \u001b[0mID\u001b[0m \u001b[0mпользователя\u001b[0m \u001b[0mс\u001b[0m \u001b[0mиндексом\u001b[0m \u001b[1;33m[\u001b[0m\u001b[1;36m1\u001b[0m\u001b[1;33m]\u001b[0m\u001b[1;33m=\u001b[0m \u001b[1;34m'A101'\u001b[0m\u001b[1;33m\u001b[0m\u001b[1;33m\u001b[0m\u001b[0m\n\u001b[0;32m      4\u001b[0m при втором вызове функции удаляется, соответсвенно не может его вернуть\"\"\"\n",
      "\u001b[1;32m<ipython-input-4-e6c7eb76bc89>\u001b[0m in \u001b[0;36mdelete_and_return_last_user\u001b[1;34m(default_list)\u001b[0m\n\u001b[0;32m      5\u001b[0m     \u001b[0mdefault_list\u001b[0m\u001b[1;33m.\u001b[0m\u001b[0mremove\u001b[0m\u001b[1;33m(\u001b[0m\u001b[0melement_to_delete\u001b[0m\u001b[1;33m)\u001b[0m\u001b[1;33m\u001b[0m\u001b[1;33m\u001b[0m\u001b[0m\n\u001b[0;32m      6\u001b[0m \u001b[1;31m#     print (default_list[-1])\u001b[0m\u001b[1;33m\u001b[0m\u001b[1;33m\u001b[0m\u001b[1;33m\u001b[0m\u001b[0m\n\u001b[1;32m----> 7\u001b[1;33m     \u001b[1;32mreturn\u001b[0m \u001b[0mdefault_list\u001b[0m\u001b[1;33m[\u001b[0m\u001b[0mDEFAULT_USER_COUNT\u001b[0m\u001b[1;33m-\u001b[0m\u001b[1;36m2\u001b[0m\u001b[1;33m]\u001b[0m\u001b[1;33m\u001b[0m\u001b[1;33m\u001b[0m\u001b[0m\n\u001b[0m\u001b[0;32m      8\u001b[0m \u001b[1;31m#     return default_list\u001b[0m\u001b[1;33m\u001b[0m\u001b[1;33m\u001b[0m\u001b[1;33m\u001b[0m\u001b[0m\n\u001b[0;32m      9\u001b[0m \u001b[1;33m\u001b[0m\u001b[0m\n",
      "\u001b[1;31mIndexError\u001b[0m: list index out of range"
     ]
    }
   ],
   "source": [
    "delete_and_return_last_user(default_list)\n",
    "\"\"\"Ответ на 2 вопрос: Ошибка была в строке  - return default_list[DEFAULT_USER_COUNT-2]-\n",
    "При втором вызове код не находит индекс [1] в списке default_list, так как ID пользователя с индексом [1]= 'A101' \n",
    "при втором вызове функции удаляется, соответсвенно не может его вернуть\"\"\""
   ]
  }
 ],
 "metadata": {
  "kernelspec": {
   "display_name": "Python 3",
   "language": "python",
   "name": "python3"
  },
  "language_info": {
   "codemirror_mode": {
    "name": "ipython",
    "version": 3
   },
   "file_extension": ".py",
   "mimetype": "text/x-python",
   "name": "python",
   "nbconvert_exporter": "python",
   "pygments_lexer": "ipython3",
   "version": "3.8.5"
  }
 },
 "nbformat": 4,
 "nbformat_minor": 4
}
